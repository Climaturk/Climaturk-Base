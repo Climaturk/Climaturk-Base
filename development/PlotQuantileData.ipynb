{
 "cells": [
  {
   "cell_type": "code",
   "execution_count": 1,
   "id": "01806932-ea32-44ce-8031-ea861ba30baf",
   "metadata": {},
   "outputs": [],
   "source": [
    "import xarray as xr\n",
    "import numpy as np\n",
    "import pandas as pd\n",
    "import matplotlib.pyplot as plt\n",
    "import cartopy\n",
    "from visjobs.visualize import easy_plot\n",
    "from cartopy.io.img_tiles import Stamen, StamenTerrain, QuadtreeTiles, GoogleWTS, OSM, MapQuestOpenAerial\n",
    "import matplotlib.patheffects as PathEffects\n",
    "import os\n",
    "import scipy.constants as sc\n",
    "\n",
    "\n",
    "from pylab import rcParams\n",
    "rcParams['figure.figsize'] = 21,24"
   ]
  },
  {
   "cell_type": "code",
   "execution_count": null,
   "id": "3f85aeef-67c5-4157-9ba3-eea3f4eb2ba4",
   "metadata": {},
   "outputs": [],
   "source": []
  },
  {
   "cell_type": "code",
   "execution_count": 23,
   "id": "198aca34-379c-4802-8a72-b4ae2598c005",
   "metadata": {},
   "outputs": [],
   "source": [
    "%%capture\n",
    "\n",
    "def plot_quantile_map(ds, var, title_max, title_min, title_ave):\n",
    "    # görsel\n",
    "\n",
    "\n",
    "    #draw map\n",
    "    m = easy_plot.painter()\n",
    "    tiler = Stamen('watercolor')\n",
    "\n",
    "    for i in range(len(ds)):\n",
    "\n",
    "        if i == 0:\n",
    "            short_title = short_title_min\n",
    "            saved_method = 'min'\n",
    "\n",
    "        elif i == 1:\n",
    "            short_title = short_title_max\n",
    "            saved_method = 'max'\n",
    "\n",
    "        elif i == 2:\n",
    "            short_title = short_title_ave\n",
    "            saved_method = 'ave'\n",
    "        \n",
    "        lon = ds[0]['longitude']\n",
    "        lat = ds[0]['latitude']\n",
    "\n",
    "        work_title = '{}'.format(dates,)\n",
    "\n",
    "        #paint features\n",
    "        ax = m.paint_ax(1,1,1, check_proj=True)\n",
    "\n",
    "        #features\n",
    "        ax.add_feature(cartopy.feature.LAND.with_scale('10m'),  zorder=1, linewidths=1.5, edgecolor='none', facecolor='white')\n",
    "        m.paint_borders(ax=ax, res='10m', zorder=4, linewidths=1.5, edgecolor='red' )\n",
    "        m.paint_lakes(ax=ax, res='10m', zorder=2, linewidths=1.5, edgecolor='red', facecolor='none' )\n",
    "        m.paint_states(ax=ax, res='10m', zorder=4, linewidths=0.4, edgecolor='red',  )\n",
    "        m.paint_coastline(ax=ax, res='10m', zorder=3, linewidths=1.8, edgecolor='red')\n",
    "\n",
    "        ax.set_extent([25, 45, 33, 45])\n",
    "        \n",
    "        if var == '500height':\n",
    "            interval = np.arange(np.min(ds[i]), np.max(ds[i]), 6)\n",
    "            \n",
    "        if var == '2mtemp':\n",
    "            interval = np.arange(np.min(ds[i]), np.max(ds[i]), 2)\n",
    "            \n",
    "        if var == '2mdew':\n",
    "            interval = np.arange(np.min(ds[i]), np.max(ds[i]), 2)\n",
    "            \n",
    "        if var == 'msl':\n",
    "            interval = np.arange(np.min(ds[i]), np.max(ds[i]), 1)\n",
    "        \n",
    "        #make the freezing rain reflectivities contourf\n",
    "        mesh = ax.contour(lon, lat, ds[i], interval, transform=cartopy.crs.PlateCarree(), zorder=6, alpha=0.9,\n",
    "                            colors='k' )\n",
    "        m.plot_clabel(mesh, fontsize=25, inline=1, inline_spacing=7,fmt='%i', rightside_up=True, use_clabeltext=True , ax=ax, zorder=5)\n",
    "\n",
    "\n",
    "        valid_era = m.set_title(title='ERA-5 Reanalysis', right = 0.850, up=0.010, ax=ax, fontsize=16,\n",
    "                                     style='italic', color='black', zorder=20, transform=ax.transAxes, weight='bold'\n",
    "                                     )\n",
    "\n",
    "        valid_t = m.set_title(title='1991-2020 Baseline', right = 0.850, up=1.010, ax=ax, fontsize=16,\n",
    "                                     style='italic', color='red', zorder=20, transform=ax.transAxes, weight='bold'\n",
    "                                     )\n",
    "\n",
    "        #titles\n",
    "        title_short = m.set_title(title='{}'.format(short_title), ax=ax, fontsize=20, up=1.030, \n",
    "                                 weight='heavy',style='italic',transform=ax.transAxes)\n",
    "\n",
    "        title1 = m.set_title(title='{}'.format(work_title), ax=ax, fontsize=16, up=1.010, \n",
    "                                 weight='heavy',style='italic',transform=ax.transAxes)\n",
    "        title2 = m.set_title(title='Climaturk.com', color='white', right=0.00730, up=0.9615000, ax=ax, size=25, \n",
    "                                     zorder=53,style='italic',transform=ax.transAxes, weight='bold',\n",
    "                                        )\n",
    "        title2.set_path_effects([PathEffects.withStroke(linewidth=6, foreground='k')])\n",
    "        \n",
    "        # savefig\n",
    "        #storm için yeni data klasörü oluştur\n",
    "        os.chdir(r'D:\\JupyterLab\\Climaturk_Site\\Docs\\STORMS\\Quantiles')\n",
    "        try:\n",
    "            os.mkdir('{}'.format(str(DateList[count, 0])))\n",
    "        except:\n",
    "            print('Directory exists')\n",
    "        \n",
    "        #save figure\n",
    "        plt.savefig(r'D:\\JupyterLab\\Climaturk_Site\\Docs\\STORMS\\Quantiles\\{}\\{}_{}.jpeg'.format(str(DateList[count, 0]),\n",
    "                                                                                                          var,\n",
    "                                                                                                          saved_method),\n",
    "                        bbox_inches='tight', optimize=True, progressive=True, dpi=150,\n",
    "                        )\n",
    "        plt.close()"
   ]
  },
  {
   "cell_type": "code",
   "execution_count": 18,
   "id": "0bd31396-6c18-48c0-9a0e-eac19a6749d7",
   "metadata": {},
   "outputs": [],
   "source": [
    "def adjust_data_units(pressure_data, single_data):\n",
    "    \n",
    "    pressure_data['z'] = np.divide(pressure_data['z'], sc.g) # geop. to height\n",
    "    \n",
    "    single_data['t2m'] = single_data['t2m'] - 273.15 # K to C\n",
    "    single_data['d2m'] = single_data['d2m'] - 273.15 # K to C\n",
    "    single_data['msl'] = single_data['msl'] / 100 # Pa to hPa\n",
    "    \n",
    "    return pressure_data, single_data"
   ]
  },
  {
   "cell_type": "code",
   "execution_count": 19,
   "id": "d33f623a-799d-4a8d-b3c0-0e58822d3d0e",
   "metadata": {},
   "outputs": [],
   "source": [
    "def find_min_max_ave(data, var):\n",
    "    \n",
    "    return data[var].min(dim='time'), \\\n",
    "           data[var].max(dim='time'), \\\n",
    "           data[var].mean(dim='time')"
   ]
  },
  {
   "cell_type": "code",
   "execution_count": 25,
   "id": "0326a363-fc9b-48ad-a3b5-ee2bc8ed6c1f",
   "metadata": {},
   "outputs": [
    {
     "name": "stdout",
     "output_type": "stream",
     "text": [
      "THE DATES IS:  20141212\n",
      "Directory exists\n"
     ]
    },
    {
     "name": "stderr",
     "output_type": "stream",
     "text": [
      "<ipython-input-23-66d9ed65f916>:86: MatplotlibDeprecationWarning: \n",
      "The 'optimize' parameter of print_jpg() was deprecated in Matplotlib 3.3 and will be removed two minor releases later. Use pil_kwargs={'optimize': ...} instead. If any parameter follows 'optimize', they should be passed as keyword, not positionally.\n",
      "  plt.savefig(r'D:\\JupyterLab\\Climaturk_Site\\Docs\\STORMS\\Quantiles\\{}\\{}_{}.jpeg'.format(str(DateList[count, 0]),\n",
      "<ipython-input-23-66d9ed65f916>:86: MatplotlibDeprecationWarning: \n",
      "The 'progressive' parameter of print_jpg() was deprecated in Matplotlib 3.3 and will be removed two minor releases later. Use pil_kwargs={'progressive': ...} instead. If any parameter follows 'progressive', they should be passed as keyword, not positionally.\n",
      "  plt.savefig(r'D:\\JupyterLab\\Climaturk_Site\\Docs\\STORMS\\Quantiles\\{}\\{}_{}.jpeg'.format(str(DateList[count, 0]),\n"
     ]
    },
    {
     "name": "stdout",
     "output_type": "stream",
     "text": [
      "Directory exists\n"
     ]
    },
    {
     "name": "stderr",
     "output_type": "stream",
     "text": [
      "<ipython-input-23-66d9ed65f916>:86: MatplotlibDeprecationWarning: \n",
      "The 'optimize' parameter of print_jpg() was deprecated in Matplotlib 3.3 and will be removed two minor releases later. Use pil_kwargs={'optimize': ...} instead. If any parameter follows 'optimize', they should be passed as keyword, not positionally.\n",
      "  plt.savefig(r'D:\\JupyterLab\\Climaturk_Site\\Docs\\STORMS\\Quantiles\\{}\\{}_{}.jpeg'.format(str(DateList[count, 0]),\n",
      "<ipython-input-23-66d9ed65f916>:86: MatplotlibDeprecationWarning: \n",
      "The 'progressive' parameter of print_jpg() was deprecated in Matplotlib 3.3 and will be removed two minor releases later. Use pil_kwargs={'progressive': ...} instead. If any parameter follows 'progressive', they should be passed as keyword, not positionally.\n",
      "  plt.savefig(r'D:\\JupyterLab\\Climaturk_Site\\Docs\\STORMS\\Quantiles\\{}\\{}_{}.jpeg'.format(str(DateList[count, 0]),\n"
     ]
    },
    {
     "name": "stdout",
     "output_type": "stream",
     "text": [
      "Directory exists\n"
     ]
    },
    {
     "name": "stderr",
     "output_type": "stream",
     "text": [
      "<ipython-input-23-66d9ed65f916>:86: MatplotlibDeprecationWarning: \n",
      "The 'optimize' parameter of print_jpg() was deprecated in Matplotlib 3.3 and will be removed two minor releases later. Use pil_kwargs={'optimize': ...} instead. If any parameter follows 'optimize', they should be passed as keyword, not positionally.\n",
      "  plt.savefig(r'D:\\JupyterLab\\Climaturk_Site\\Docs\\STORMS\\Quantiles\\{}\\{}_{}.jpeg'.format(str(DateList[count, 0]),\n",
      "<ipython-input-23-66d9ed65f916>:86: MatplotlibDeprecationWarning: \n",
      "The 'progressive' parameter of print_jpg() was deprecated in Matplotlib 3.3 and will be removed two minor releases later. Use pil_kwargs={'progressive': ...} instead. If any parameter follows 'progressive', they should be passed as keyword, not positionally.\n",
      "  plt.savefig(r'D:\\JupyterLab\\Climaturk_Site\\Docs\\STORMS\\Quantiles\\{}\\{}_{}.jpeg'.format(str(DateList[count, 0]),\n"
     ]
    },
    {
     "name": "stdout",
     "output_type": "stream",
     "text": [
      "exitted Plotting: 500height\n",
      "Directory exists\n"
     ]
    },
    {
     "name": "stderr",
     "output_type": "stream",
     "text": [
      "<ipython-input-23-66d9ed65f916>:86: MatplotlibDeprecationWarning: \n",
      "The 'optimize' parameter of print_jpg() was deprecated in Matplotlib 3.3 and will be removed two minor releases later. Use pil_kwargs={'optimize': ...} instead. If any parameter follows 'optimize', they should be passed as keyword, not positionally.\n",
      "  plt.savefig(r'D:\\JupyterLab\\Climaturk_Site\\Docs\\STORMS\\Quantiles\\{}\\{}_{}.jpeg'.format(str(DateList[count, 0]),\n",
      "<ipython-input-23-66d9ed65f916>:86: MatplotlibDeprecationWarning: \n",
      "The 'progressive' parameter of print_jpg() was deprecated in Matplotlib 3.3 and will be removed two minor releases later. Use pil_kwargs={'progressive': ...} instead. If any parameter follows 'progressive', they should be passed as keyword, not positionally.\n",
      "  plt.savefig(r'D:\\JupyterLab\\Climaturk_Site\\Docs\\STORMS\\Quantiles\\{}\\{}_{}.jpeg'.format(str(DateList[count, 0]),\n"
     ]
    },
    {
     "name": "stdout",
     "output_type": "stream",
     "text": [
      "Directory exists\n"
     ]
    },
    {
     "name": "stderr",
     "output_type": "stream",
     "text": [
      "<ipython-input-23-66d9ed65f916>:86: MatplotlibDeprecationWarning: \n",
      "The 'optimize' parameter of print_jpg() was deprecated in Matplotlib 3.3 and will be removed two minor releases later. Use pil_kwargs={'optimize': ...} instead. If any parameter follows 'optimize', they should be passed as keyword, not positionally.\n",
      "  plt.savefig(r'D:\\JupyterLab\\Climaturk_Site\\Docs\\STORMS\\Quantiles\\{}\\{}_{}.jpeg'.format(str(DateList[count, 0]),\n",
      "<ipython-input-23-66d9ed65f916>:86: MatplotlibDeprecationWarning: \n",
      "The 'progressive' parameter of print_jpg() was deprecated in Matplotlib 3.3 and will be removed two minor releases later. Use pil_kwargs={'progressive': ...} instead. If any parameter follows 'progressive', they should be passed as keyword, not positionally.\n",
      "  plt.savefig(r'D:\\JupyterLab\\Climaturk_Site\\Docs\\STORMS\\Quantiles\\{}\\{}_{}.jpeg'.format(str(DateList[count, 0]),\n"
     ]
    },
    {
     "name": "stdout",
     "output_type": "stream",
     "text": [
      "Directory exists\n"
     ]
    },
    {
     "name": "stderr",
     "output_type": "stream",
     "text": [
      "<ipython-input-23-66d9ed65f916>:86: MatplotlibDeprecationWarning: \n",
      "The 'optimize' parameter of print_jpg() was deprecated in Matplotlib 3.3 and will be removed two minor releases later. Use pil_kwargs={'optimize': ...} instead. If any parameter follows 'optimize', they should be passed as keyword, not positionally.\n",
      "  plt.savefig(r'D:\\JupyterLab\\Climaturk_Site\\Docs\\STORMS\\Quantiles\\{}\\{}_{}.jpeg'.format(str(DateList[count, 0]),\n",
      "<ipython-input-23-66d9ed65f916>:86: MatplotlibDeprecationWarning: \n",
      "The 'progressive' parameter of print_jpg() was deprecated in Matplotlib 3.3 and will be removed two minor releases later. Use pil_kwargs={'progressive': ...} instead. If any parameter follows 'progressive', they should be passed as keyword, not positionally.\n",
      "  plt.savefig(r'D:\\JupyterLab\\Climaturk_Site\\Docs\\STORMS\\Quantiles\\{}\\{}_{}.jpeg'.format(str(DateList[count, 0]),\n"
     ]
    },
    {
     "name": "stdout",
     "output_type": "stream",
     "text": [
      "exitted Plotting: 2mtemp\n",
      "Directory exists\n"
     ]
    },
    {
     "name": "stderr",
     "output_type": "stream",
     "text": [
      "<ipython-input-23-66d9ed65f916>:86: MatplotlibDeprecationWarning: \n",
      "The 'optimize' parameter of print_jpg() was deprecated in Matplotlib 3.3 and will be removed two minor releases later. Use pil_kwargs={'optimize': ...} instead. If any parameter follows 'optimize', they should be passed as keyword, not positionally.\n",
      "  plt.savefig(r'D:\\JupyterLab\\Climaturk_Site\\Docs\\STORMS\\Quantiles\\{}\\{}_{}.jpeg'.format(str(DateList[count, 0]),\n",
      "<ipython-input-23-66d9ed65f916>:86: MatplotlibDeprecationWarning: \n",
      "The 'progressive' parameter of print_jpg() was deprecated in Matplotlib 3.3 and will be removed two minor releases later. Use pil_kwargs={'progressive': ...} instead. If any parameter follows 'progressive', they should be passed as keyword, not positionally.\n",
      "  plt.savefig(r'D:\\JupyterLab\\Climaturk_Site\\Docs\\STORMS\\Quantiles\\{}\\{}_{}.jpeg'.format(str(DateList[count, 0]),\n"
     ]
    },
    {
     "name": "stdout",
     "output_type": "stream",
     "text": [
      "Directory exists\n"
     ]
    },
    {
     "name": "stderr",
     "output_type": "stream",
     "text": [
      "<ipython-input-23-66d9ed65f916>:86: MatplotlibDeprecationWarning: \n",
      "The 'optimize' parameter of print_jpg() was deprecated in Matplotlib 3.3 and will be removed two minor releases later. Use pil_kwargs={'optimize': ...} instead. If any parameter follows 'optimize', they should be passed as keyword, not positionally.\n",
      "  plt.savefig(r'D:\\JupyterLab\\Climaturk_Site\\Docs\\STORMS\\Quantiles\\{}\\{}_{}.jpeg'.format(str(DateList[count, 0]),\n",
      "<ipython-input-23-66d9ed65f916>:86: MatplotlibDeprecationWarning: \n",
      "The 'progressive' parameter of print_jpg() was deprecated in Matplotlib 3.3 and will be removed two minor releases later. Use pil_kwargs={'progressive': ...} instead. If any parameter follows 'progressive', they should be passed as keyword, not positionally.\n",
      "  plt.savefig(r'D:\\JupyterLab\\Climaturk_Site\\Docs\\STORMS\\Quantiles\\{}\\{}_{}.jpeg'.format(str(DateList[count, 0]),\n"
     ]
    },
    {
     "name": "stdout",
     "output_type": "stream",
     "text": [
      "Directory exists\n"
     ]
    },
    {
     "name": "stderr",
     "output_type": "stream",
     "text": [
      "<ipython-input-23-66d9ed65f916>:86: MatplotlibDeprecationWarning: \n",
      "The 'optimize' parameter of print_jpg() was deprecated in Matplotlib 3.3 and will be removed two minor releases later. Use pil_kwargs={'optimize': ...} instead. If any parameter follows 'optimize', they should be passed as keyword, not positionally.\n",
      "  plt.savefig(r'D:\\JupyterLab\\Climaturk_Site\\Docs\\STORMS\\Quantiles\\{}\\{}_{}.jpeg'.format(str(DateList[count, 0]),\n",
      "<ipython-input-23-66d9ed65f916>:86: MatplotlibDeprecationWarning: \n",
      "The 'progressive' parameter of print_jpg() was deprecated in Matplotlib 3.3 and will be removed two minor releases later. Use pil_kwargs={'progressive': ...} instead. If any parameter follows 'progressive', they should be passed as keyword, not positionally.\n",
      "  plt.savefig(r'D:\\JupyterLab\\Climaturk_Site\\Docs\\STORMS\\Quantiles\\{}\\{}_{}.jpeg'.format(str(DateList[count, 0]),\n"
     ]
    },
    {
     "name": "stdout",
     "output_type": "stream",
     "text": [
      "exitted Plotting: 2mdew\n",
      "Directory exists\n"
     ]
    },
    {
     "name": "stderr",
     "output_type": "stream",
     "text": [
      "<ipython-input-23-66d9ed65f916>:86: MatplotlibDeprecationWarning: \n",
      "The 'optimize' parameter of print_jpg() was deprecated in Matplotlib 3.3 and will be removed two minor releases later. Use pil_kwargs={'optimize': ...} instead. If any parameter follows 'optimize', they should be passed as keyword, not positionally.\n",
      "  plt.savefig(r'D:\\JupyterLab\\Climaturk_Site\\Docs\\STORMS\\Quantiles\\{}\\{}_{}.jpeg'.format(str(DateList[count, 0]),\n",
      "<ipython-input-23-66d9ed65f916>:86: MatplotlibDeprecationWarning: \n",
      "The 'progressive' parameter of print_jpg() was deprecated in Matplotlib 3.3 and will be removed two minor releases later. Use pil_kwargs={'progressive': ...} instead. If any parameter follows 'progressive', they should be passed as keyword, not positionally.\n",
      "  plt.savefig(r'D:\\JupyterLab\\Climaturk_Site\\Docs\\STORMS\\Quantiles\\{}\\{}_{}.jpeg'.format(str(DateList[count, 0]),\n"
     ]
    },
    {
     "name": "stdout",
     "output_type": "stream",
     "text": [
      "Directory exists\n"
     ]
    },
    {
     "name": "stderr",
     "output_type": "stream",
     "text": [
      "<ipython-input-23-66d9ed65f916>:86: MatplotlibDeprecationWarning: \n",
      "The 'optimize' parameter of print_jpg() was deprecated in Matplotlib 3.3 and will be removed two minor releases later. Use pil_kwargs={'optimize': ...} instead. If any parameter follows 'optimize', they should be passed as keyword, not positionally.\n",
      "  plt.savefig(r'D:\\JupyterLab\\Climaturk_Site\\Docs\\STORMS\\Quantiles\\{}\\{}_{}.jpeg'.format(str(DateList[count, 0]),\n",
      "<ipython-input-23-66d9ed65f916>:86: MatplotlibDeprecationWarning: \n",
      "The 'progressive' parameter of print_jpg() was deprecated in Matplotlib 3.3 and will be removed two minor releases later. Use pil_kwargs={'progressive': ...} instead. If any parameter follows 'progressive', they should be passed as keyword, not positionally.\n",
      "  plt.savefig(r'D:\\JupyterLab\\Climaturk_Site\\Docs\\STORMS\\Quantiles\\{}\\{}_{}.jpeg'.format(str(DateList[count, 0]),\n"
     ]
    },
    {
     "name": "stdout",
     "output_type": "stream",
     "text": [
      "Directory exists\n"
     ]
    },
    {
     "name": "stderr",
     "output_type": "stream",
     "text": [
      "<ipython-input-23-66d9ed65f916>:86: MatplotlibDeprecationWarning: \n",
      "The 'optimize' parameter of print_jpg() was deprecated in Matplotlib 3.3 and will be removed two minor releases later. Use pil_kwargs={'optimize': ...} instead. If any parameter follows 'optimize', they should be passed as keyword, not positionally.\n",
      "  plt.savefig(r'D:\\JupyterLab\\Climaturk_Site\\Docs\\STORMS\\Quantiles\\{}\\{}_{}.jpeg'.format(str(DateList[count, 0]),\n",
      "<ipython-input-23-66d9ed65f916>:86: MatplotlibDeprecationWarning: \n",
      "The 'progressive' parameter of print_jpg() was deprecated in Matplotlib 3.3 and will be removed two minor releases later. Use pil_kwargs={'progressive': ...} instead. If any parameter follows 'progressive', they should be passed as keyword, not positionally.\n",
      "  plt.savefig(r'D:\\JupyterLab\\Climaturk_Site\\Docs\\STORMS\\Quantiles\\{}\\{}_{}.jpeg'.format(str(DateList[count, 0]),\n"
     ]
    },
    {
     "name": "stdout",
     "output_type": "stream",
     "text": [
      "exitted Plotting: msl\n",
      "Plot Done:  20141212\n"
     ]
    }
   ],
   "source": [
    "DateList = np.load(r'C:\\Users\\USER\\JupyterLab\\Climaturk_Site\\GITHUB\\version_17_05_2021\\Climaturk-Base\\src/DateList_Quantile_10042021.npy', allow_pickle=True)\n",
    "\n",
    "# Define the path\n",
    "#storm klasörüne geçiş yap\n",
    "for count in range(len(DateList)):\n",
    "    \n",
    "    print('THE DATES IS: ', str(DateList[count, 0]))\n",
    "    \n",
    "    # If the date has already processed, than continue to next loop. first cond\n",
    "    # If the plot already done continue to next loop. second cond\n",
    "    if DateList[count, 2] == 0 or DateList[count, 3] == 1: continue\n",
    "\n",
    "    dates = str(DateList[count, 0])\n",
    "    #dates_s =  str(DateList[count, 1])\n",
    "    \n",
    "    \n",
    "    pre_data_path = r'D:\\JupyterLab\\Climaturk_Site\\Docs\\STORM_DATA'\n",
    "    full_path_pr = pre_data_path + '\\\\' + dates + '\\\\' + 'quantile_pressure_data.nc'\n",
    "    full_path_sn = pre_data_path + '\\\\' + dates + '\\\\' + 'quantile_single_data.nc'\n",
    "\n",
    "    pressure_data = xr.open_dataset(full_path_pr)\n",
    "    single_data = xr.open_dataset(full_path_sn)\n",
    "    \n",
    "    #adjust dataset units\n",
    "    adjusted_pressure, adjusted_single = adjust_data_units(pressure_data, single_data)\n",
    "    \n",
    "    # min - max - ave for z\n",
    "    zmin_daily, zmax_daily, zave_daily = find_min_max_ave(adjusted_pressure, 'z')\n",
    "    \n",
    "    # min - max - ave for t\n",
    "    tmin_daily, tmax_daily, tave_daily = find_min_max_ave(adjusted_single, 't2m')\n",
    "    \n",
    "    # min - max - ave for d\n",
    "    dmin_daily, dmax_daily, dave_daily = find_min_max_ave(adjusted_single, 'd2m')\n",
    "    \n",
    "    # min - max - ave for p\n",
    "    pmin_daily, pmax_daily, pave_daily = find_min_max_ave(adjusted_single, 'msl')\n",
    "\n",
    "    ds_z = [zmin_daily, zmax_daily, zave_daily]\n",
    "    ds_t = [tmin_daily, tmax_daily, tave_daily]    \n",
    "    ds_d = [dmin_daily, dmax_daily, dave_daily]    \n",
    "    ds_p = [pmin_daily, pmax_daily, pave_daily]\n",
    "    \n",
    "    \n",
    "    # PLOT\n",
    "    # z\n",
    "    var = '500height'\n",
    "    short_title_max = '500 mb Maximum Geopotential Height (m)'\n",
    "    short_title_min = '500 mb Minimum Geopotential Height (m)'\n",
    "    short_title_ave = '500 mb Average Geopotential Height (m)'\n",
    "\n",
    "    plot_quantile_map(ds_z, var, short_title_min, short_title_max, short_title_ave, \n",
    "                     )\n",
    "    print(f'exitted Plotting: {var}')\n",
    "    \n",
    "    # t\n",
    "    var = '2mtemp'\n",
    "    short_title_max = '2m  Maximum Temperature (degC)'\n",
    "    short_title_min = '2m  Minimum Temperature (degC)'\n",
    "    short_title_ave = '2m  Average Temperature (degC)'\n",
    "\n",
    "    plot_quantile_map(ds_t, var, short_title_min, short_title_max, short_title_ave, \n",
    "                     )\n",
    "    print(f'exitted Plotting: {var}')\n",
    "    \n",
    "    # d\n",
    "    var = '2mdew'\n",
    "    short_title_max = '2m  Maximum Dewpoint Temperature (degC)'\n",
    "    short_title_min = '2m  Minimum Dewpoint Temperature (degC)'\n",
    "    short_title_ave = '2m  Average Dewpoint Temperature (degC)'\n",
    "\n",
    "    plot_quantile_map(ds_d, var, short_title_min, short_title_max, short_title_ave, \n",
    "                     )\n",
    "    print(f'exitted Plotting: {var}')\n",
    "    \n",
    "    # p\n",
    "    var = 'msl'\n",
    "    short_title_max = 'Maximum Mean Sea Level Pressure (mb)'\n",
    "    short_title_min = 'Minimum Mean Sea Level Pressure (mb)'\n",
    "    short_title_ave = 'Average Mean Sea Level Pressure (mb)'\n",
    "\n",
    "    plot_quantile_map(ds_p, var, short_title_min, short_title_max, short_title_ave, \n",
    "                     )\n",
    "    print(f'exitted Plotting: {var}')\n",
    "    \n",
    "    # change 0 to 1 in corresponding plot's [done] column (means the plot is completed in plotting)\n",
    "    DateList[count, 3] = 1\n",
    "    np.save(r'C:\\Users\\USER\\JupyterLab\\Climaturk_Site\\GITHUB\\version_17_05_2021\\Climaturk-Base\\src/DateList_Quantile_10042021', DateList)\n",
    "    print('Plot Done: ', str(DateList[count, 0]))\n",
    "    \n",
    "    break"
   ]
  },
  {
   "cell_type": "code",
   "execution_count": null,
   "id": "1d615bf6-a2a9-47d5-8d25-4b08d1af6fc8",
   "metadata": {},
   "outputs": [],
   "source": []
  },
  {
   "cell_type": "code",
   "execution_count": null,
   "id": "e5aa097b-b961-430f-a4a9-31de24edbf51",
   "metadata": {},
   "outputs": [],
   "source": []
  },
  {
   "cell_type": "code",
   "execution_count": null,
   "id": "f95c74f4-5dac-402b-9841-ffa2cd40998d",
   "metadata": {},
   "outputs": [],
   "source": []
  },
  {
   "cell_type": "code",
   "execution_count": null,
   "id": "a6b796f2-1249-4150-849c-1cd1dc593354",
   "metadata": {},
   "outputs": [],
   "source": []
  },
  {
   "cell_type": "code",
   "execution_count": null,
   "id": "dab2e636-00c8-4452-aee1-fc1c22c846da",
   "metadata": {},
   "outputs": [],
   "source": []
  },
  {
   "cell_type": "code",
   "execution_count": 81,
   "id": "9027fd22-6227-4ce8-ad1d-b56b155fdd6d",
   "metadata": {},
   "outputs": [
    {
     "name": "stdout",
     "output_type": "stream",
     "text": [
      "Directory exists\n"
     ]
    },
    {
     "name": "stderr",
     "output_type": "stream",
     "text": [
      "<ipython-input-80-dd54d2a17bc2>:77: MatplotlibDeprecationWarning: \n",
      "The 'optimize' parameter of print_jpg() was deprecated in Matplotlib 3.3 and will be removed two minor releases later. Use pil_kwargs={'optimize': ...} instead. If any parameter follows 'optimize', they should be passed as keyword, not positionally.\n",
      "  plt.savefig(r'C:\\Users\\USER\\JupyterLab\\Climaturk_Site\\Docs\\STORMS\\Quantiles\\{}\\{}_{}.jpeg'.format(str(DateList[count, 0]),\n",
      "<ipython-input-80-dd54d2a17bc2>:77: MatplotlibDeprecationWarning: \n",
      "The 'progressive' parameter of print_jpg() was deprecated in Matplotlib 3.3 and will be removed two minor releases later. Use pil_kwargs={'progressive': ...} instead. If any parameter follows 'progressive', they should be passed as keyword, not positionally.\n",
      "  plt.savefig(r'C:\\Users\\USER\\JupyterLab\\Climaturk_Site\\Docs\\STORMS\\Quantiles\\{}\\{}_{}.jpeg'.format(str(DateList[count, 0]),\n"
     ]
    },
    {
     "name": "stdout",
     "output_type": "stream",
     "text": [
      "Directory exists\n"
     ]
    },
    {
     "name": "stderr",
     "output_type": "stream",
     "text": [
      "<ipython-input-80-dd54d2a17bc2>:77: MatplotlibDeprecationWarning: \n",
      "The 'optimize' parameter of print_jpg() was deprecated in Matplotlib 3.3 and will be removed two minor releases later. Use pil_kwargs={'optimize': ...} instead. If any parameter follows 'optimize', they should be passed as keyword, not positionally.\n",
      "  plt.savefig(r'C:\\Users\\USER\\JupyterLab\\Climaturk_Site\\Docs\\STORMS\\Quantiles\\{}\\{}_{}.jpeg'.format(str(DateList[count, 0]),\n",
      "<ipython-input-80-dd54d2a17bc2>:77: MatplotlibDeprecationWarning: \n",
      "The 'progressive' parameter of print_jpg() was deprecated in Matplotlib 3.3 and will be removed two minor releases later. Use pil_kwargs={'progressive': ...} instead. If any parameter follows 'progressive', they should be passed as keyword, not positionally.\n",
      "  plt.savefig(r'C:\\Users\\USER\\JupyterLab\\Climaturk_Site\\Docs\\STORMS\\Quantiles\\{}\\{}_{}.jpeg'.format(str(DateList[count, 0]),\n"
     ]
    },
    {
     "name": "stdout",
     "output_type": "stream",
     "text": [
      "Directory exists\n"
     ]
    },
    {
     "name": "stderr",
     "output_type": "stream",
     "text": [
      "<ipython-input-80-dd54d2a17bc2>:77: MatplotlibDeprecationWarning: \n",
      "The 'optimize' parameter of print_jpg() was deprecated in Matplotlib 3.3 and will be removed two minor releases later. Use pil_kwargs={'optimize': ...} instead. If any parameter follows 'optimize', they should be passed as keyword, not positionally.\n",
      "  plt.savefig(r'C:\\Users\\USER\\JupyterLab\\Climaturk_Site\\Docs\\STORMS\\Quantiles\\{}\\{}_{}.jpeg'.format(str(DateList[count, 0]),\n",
      "<ipython-input-80-dd54d2a17bc2>:77: MatplotlibDeprecationWarning: \n",
      "The 'progressive' parameter of print_jpg() was deprecated in Matplotlib 3.3 and will be removed two minor releases later. Use pil_kwargs={'progressive': ...} instead. If any parameter follows 'progressive', they should be passed as keyword, not positionally.\n",
      "  plt.savefig(r'C:\\Users\\USER\\JupyterLab\\Climaturk_Site\\Docs\\STORMS\\Quantiles\\{}\\{}_{}.jpeg'.format(str(DateList[count, 0]),\n"
     ]
    }
   ],
   "source": [
    "%%capture\n",
    "\n",
    "var = '500height'\n",
    "short_title_max = '500 mb Hourly Maximum Geopotential Height'\n",
    "short_title_min = '500 mb Hourly Minimum Geopotential Height'\n",
    "short_title_ave = '500 mb Hourly Average Geopotential Height'\n",
    "\n",
    "plot_quantile_map(ds_z, var, short_title_min, short_title_max, short_title_ave, \n",
    "                 )"
   ]
  },
  {
   "cell_type": "code",
   "execution_count": null,
   "id": "edb00191-e24e-47a0-b3cf-524466ec94c9",
   "metadata": {},
   "outputs": [],
   "source": []
  }
 ],
 "metadata": {
  "kernelspec": {
   "display_name": "Python 3",
   "language": "python",
   "name": "python3"
  },
  "language_info": {
   "codemirror_mode": {
    "name": "ipython",
    "version": 3
   },
   "file_extension": ".py",
   "mimetype": "text/x-python",
   "name": "python",
   "nbconvert_exporter": "python",
   "pygments_lexer": "ipython3",
   "version": "3.9.4"
  }
 },
 "nbformat": 4,
 "nbformat_minor": 5
}
