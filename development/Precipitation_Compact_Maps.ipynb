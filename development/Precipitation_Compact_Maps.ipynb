{
 "cells": [
  {
   "cell_type": "code",
   "execution_count": 1,
   "id": "8663b2ee-a6cc-460e-b397-eb154b1488ac",
   "metadata": {},
   "outputs": [],
   "source": [
    "\"\"\"By Kutay/Berkay DÖNMEZ\"\"\"\n",
    "\n",
    "#should get bs4, html5lib, lxml packages first\n",
    "import scipy.constants as sc\n",
    "import xarray as xr\n",
    "import numpy as np\n",
    "from datetime import datetime, timedelta\n",
    "from dask.distributed import Client\n",
    "import matplotlib.pyplot as plt\n",
    "from metpy.plots import  SkewT\n",
    "from metpy.units import units\n",
    "from scipy.ndimage import gaussian_filter\n",
    "import cartopy\n",
    "import metpy.calc as mpcalc\n",
    "from scipy.ndimage.filters import minimum_filter, maximum_filter\n",
    "import numpy as np\n",
    "import matplotlib.colors as colors\n",
    "from datetime import datetime\n",
    "import matplotlib.patheffects as PathEffects\n",
    "import cdsapi\n",
    "import proplot as plot\n",
    "import os\n",
    "import cartopy.crs as ccrs\n",
    "import asyncio\n",
    "from dask.distributed import Client, LocalCluster, fire_and_forget\n",
    "\n",
    "import sys\n",
    "# import own packages\n",
    "sys.path.append(r'..\\src')\n",
    "import Compact_Maps\n",
    "from OpenThermodynamicData import opendownloadeddata\n",
    "from Hodograph import hodograph\n",
    "from Skewt import skewt"
   ]
  },
  {
   "cell_type": "code",
   "execution_count": 2,
   "id": "fbe00fe7-1b9b-4e82-a6ce-cee8a38d75fa",
   "metadata": {},
   "outputs": [],
   "source": [
    "DateList = np.load('DateList_Precipitation_10042021.npy', allow_pickle=True)"
   ]
  },
  {
   "cell_type": "code",
   "execution_count": 18,
   "id": "ad568b11-7882-443d-8957-c63b7c9fcb91",
   "metadata": {},
   "outputs": [
    {
     "name": "stdout",
     "output_type": "stream",
     "text": [
      "THE DATES IS:  20100805\n",
      "Directory exists\n"
     ]
    }
   ],
   "source": [
    "# Define the path\n",
    "#storm klasörüne geçiş yap\n",
    "for count in range(len(DateList)):\n",
    "    \n",
    "    print('THE DATES IS: ', str(DateList[count, 0]))\n",
    "    # If the date has already processed, than continue to next loop. first cond\n",
    "    # If the plot already done continue to next loop. second cond\n",
    "    if DateList[count, 2] == 1: continue\n",
    "        \n",
    "    dates = str(DateList[count, 0])\n",
    "    year = int(dates[:4])\n",
    "    month = int(dates[4:6])\n",
    "    day = int(dates[6:])\n",
    "\n",
    "    datetime_object = datetime(year, month, day)\n",
    "\n",
    "    pre_data_path = r'C:\\Users\\USER\\JupyterLab\\Climaturk_Site\\Docs\\STORM_DATA\\precipitation'\n",
    "    full_path_era5 = pre_data_path + '\\\\' + 'DAILY_ERA5' + '\\\\' + 'DAILY_ERA5.nc'\n",
    "    full_path_merra2 = pre_data_path + '\\\\' + 'DAILY_MERRA2' + '\\\\' + 'DAILY_MERRA2.nc'\n",
    "    full_path_jra55 = pre_data_path + '\\\\' + 'DAILY_JRA55' + '\\\\' + 'DAILY_JRA55.nc'\n",
    "    full_path_cfsr_cfsv2 = pre_data_path + '\\\\' + 'DAILY_CFSR_CFSV2' + '\\\\' + 'DAILY_CFSR_CFSV2.nc'\n",
    "    \n",
    "    #storm için yeni data klasörü oluştur\n",
    "    os.chdir(r'C:\\Users\\USER\\JupyterLab\\Climaturk_Site\\Docs\\STORMS\\precipitation')\n",
    "    try:\n",
    "        os.mkdir('{}'.format(str(DateList[count, 0])))\n",
    "    except:\n",
    "        print('Directory exists')\n",
    "    \n",
    "    # clip datasets into datelist\n",
    "    dt_era5 = xr.open_dataset(full_path_era5).sel(time = datetime_object)['tp'] * 1000 #m - saatlik = 1000 ile çarp\n",
    "    dt_merra2 = xr.open_dataset(full_path_merra2).sel(time = datetime_object)['PRECTOTCORR'] * 3600 # kg/m2s-1 - saatlik = 3600 ile çarp günlük toplamı\n",
    "    dt_jra55 = xr.open_dataset(full_path_jra55).sel(initial_time0_hours = datetime_object)['TPRAT_GDS4_SFC_ave3h'] * 2 / 4 # mm/day - 6 hourly - 3hour forecast = 2 ile çarp (kalan 12 saat) ve 4 'e böl(mm/dayden mm/6hour'a)\n",
    "    dt_cfsr_cfsv2 = xr.open_dataset(full_path_cfsr_cfsv2).sel(time = datetime_object)['A_PCP_L1_Accum_1'] * 6 # kg/m2 - 6hourly - 1 hour accumulation = 6 ile çarp\n",
    "    \n",
    "    # Burada artık görselleştirme kodu giriyor devreye\n",
    "    # ...\n",
    "    # ...\n",
    "    \n",
    "    # change 0 to 1 in corresponding plot's [done] column (means the plot is completed in plotting)\n",
    "    #DateList[count, 2] = 1\n",
    "    #np.save('DateList_Precipitation_10042021', DateList)\n",
    "    #print('Plot Done: ', str(DateList[count, 0]))\n",
    "    \n",
    "    break"
   ]
  },
  {
   "cell_type": "code",
   "execution_count": null,
   "id": "ddc2d744-576c-43ea-9d55-4343972c1b6e",
   "metadata": {},
   "outputs": [],
   "source": []
  },
  {
   "cell_type": "code",
   "execution_count": null,
   "id": "31ece803-e7a8-4ec3-bd94-83471ca72a4c",
   "metadata": {},
   "outputs": [],
   "source": []
  },
  {
   "cell_type": "code",
   "execution_count": null,
   "id": "6de48e46-603d-4b74-9810-4b66c71f8a03",
   "metadata": {},
   "outputs": [],
   "source": []
  },
  {
   "cell_type": "code",
   "execution_count": null,
   "id": "3519bbb8-f7bf-4313-8e9a-3b838cb9d2b0",
   "metadata": {},
   "outputs": [],
   "source": []
  },
  {
   "cell_type": "code",
   "execution_count": null,
   "id": "1873e88f-10c7-430e-ae0d-91e37edc836b",
   "metadata": {},
   "outputs": [],
   "source": []
  },
  {
   "cell_type": "code",
   "execution_count": null,
   "id": "11fa121f-ffb1-4ecd-913c-72626f1b7bd7",
   "metadata": {},
   "outputs": [],
   "source": []
  },
  {
   "cell_type": "code",
   "execution_count": null,
   "id": "773ad2fb-3ffc-46eb-87c2-d03ed48e4571",
   "metadata": {},
   "outputs": [],
   "source": []
  }
 ],
 "metadata": {
  "kernelspec": {
   "display_name": "Python 3",
   "language": "python",
   "name": "python3"
  },
  "language_info": {
   "codemirror_mode": {
    "name": "ipython",
    "version": 3
   },
   "file_extension": ".py",
   "mimetype": "text/x-python",
   "name": "python",
   "nbconvert_exporter": "python",
   "pygments_lexer": "ipython3",
   "version": "3.9.4"
  }
 },
 "nbformat": 4,
 "nbformat_minor": 5
}
