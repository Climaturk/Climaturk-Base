{
 "cells": [
  {
   "cell_type": "code",
   "execution_count": 57,
   "metadata": {},
   "outputs": [],
   "source": [
    "\"\"\"By Kutay/Berkay DÖNMEZ\"\"\"\n",
    "\n",
    "#should get bs4, html5lib, lxml packages first\n",
    "import scipy.constants as sc\n",
    "import xarray as xr\n",
    "import numpy as np\n",
    "from datetime import datetime, timedelta\n",
    "from dask.distributed import Client\n",
    "import matplotlib.pyplot as plt\n",
    "from metpy.plots import  SkewT\n",
    "from metpy.units import units\n",
    "from scipy.ndimage import gaussian_filter\n",
    "import cartopy\n",
    "import metpy.calc as mpcalc\n",
    "from scipy.ndimage.filters import minimum_filter, maximum_filter\n",
    "import numpy as np\n",
    "import matplotlib.colors as colors\n",
    "from datetime import datetime\n",
    "import matplotlib.patheffects as PathEffects\n",
    "import cdsapi\n",
    "import proplot as plot\n",
    "import os\n",
    "import cartopy.crs as ccrs\n",
    "import asyncio\n",
    "from dask.distributed import Client, LocalCluster, fire_and_forget\n",
    "\n",
    "import sys\n",
    "# import own packages\n",
    "sys.path.append(r'..\\src')\n",
    "import Compact_Maps\n",
    "from OpenThermodynamicData import opendownloadeddata\n",
    "from Hodograph import hodograph\n",
    "from Skewt import skewt"
   ]
  },
  {
   "cell_type": "code",
   "execution_count": 1,
   "metadata": {},
   "outputs": [],
   "source": [
    "# When new dates are arrived append those to here to know what is going on with datelists.\n",
    "# Do not use one datelist twice\n",
    "# After using consecutive datelist data concat them to each other so that they look together in shape"
   ]
  },
  {
   "cell_type": "markdown",
   "metadata": {},
   "source": [
    "# Dates: Version 10-04-2021"
   ]
  },
  {
   "cell_type": "code",
   "execution_count": null,
   "metadata": {},
   "outputs": [],
   "source": [
    "precip_datelist = np.load('../src/DateList_Precipitation_10042021.npy', allow_pickle=True)"
   ]
  },
  {
   "cell_type": "code",
   "execution_count": null,
   "metadata": {},
   "outputs": [],
   "source": [
    "Synoptic_datelist = np.load('../src/DateList_Synoptic_10042021.npy', allow_pickle=True)"
   ]
  },
  {
   "cell_type": "code",
   "execution_count": null,
   "metadata": {},
   "outputs": [],
   "source": [
    "Thermo_datelist = np.load('../src/DateList_Thermodynamic_10042021.npy', allow_pickle=True)"
   ]
  },
  {
   "cell_type": "markdown",
   "metadata": {},
   "source": [
    "# ***********************************************************************************************"
   ]
  },
  {
   "cell_type": "code",
   "execution_count": null,
   "metadata": {},
   "outputs": [],
   "source": []
  },
  {
   "cell_type": "code",
   "execution_count": 13,
   "metadata": {},
   "outputs": [],
   "source": []
  },
  {
   "cell_type": "code",
   "execution_count": null,
   "metadata": {},
   "outputs": [],
   "source": []
  },
  {
   "cell_type": "code",
   "execution_count": null,
   "metadata": {},
   "outputs": [],
   "source": []
  },
  {
   "cell_type": "code",
   "execution_count": null,
   "metadata": {},
   "outputs": [],
   "source": []
  },
  {
   "cell_type": "code",
   "execution_count": null,
   "metadata": {},
   "outputs": [],
   "source": []
  },
  {
   "cell_type": "code",
   "execution_count": null,
   "metadata": {},
   "outputs": [],
   "source": []
  },
  {
   "cell_type": "code",
   "execution_count": null,
   "metadata": {},
   "outputs": [],
   "source": []
  },
  {
   "cell_type": "code",
   "execution_count": null,
   "metadata": {},
   "outputs": [],
   "source": []
  },
  {
   "cell_type": "code",
   "execution_count": null,
   "metadata": {},
   "outputs": [],
   "source": []
  }
 ],
 "metadata": {
  "kernelspec": {
   "display_name": "Python 3",
   "language": "python",
   "name": "python3"
  },
  "language_info": {
   "codemirror_mode": {
    "name": "ipython",
    "version": 3
   },
   "file_extension": ".py",
   "mimetype": "text/x-python",
   "name": "python",
   "nbconvert_exporter": "python",
   "pygments_lexer": "ipython3",
   "version": "3.9.4"
  }
 },
 "nbformat": 4,
 "nbformat_minor": 4
}
