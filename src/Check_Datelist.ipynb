{
 "cells": [
  {
   "cell_type": "code",
   "execution_count": 57,
   "metadata": {},
   "outputs": [],
   "source": [
    "\"\"\"By Kutay/Berkay DÖNMEZ\"\"\"\n",
    "\n",
    "#should get bs4, html5lib, lxml packages first\n",
    "import scipy.constants as sc\n",
    "import xarray as xr\n",
    "import numpy as np\n",
    "from pydap.client import open_url\n",
    "from pydap.cas.urs import setup_session\n",
    "from datetime import datetime, timedelta\n",
    "from dask.distributed import Client\n",
    "import matplotlib.pyplot as plt\n",
    "from metpy.plots import  SkewT\n",
    "from metpy.units import units\n",
    "from scipy.ndimage import gaussian_filter\n",
    "import cartopy\n",
    "import metpy.calc as mpcalc\n",
    "from scipy.ndimage.filters import minimum_filter, maximum_filter\n",
    "import numpy as np\n",
    "import matplotlib.colors as colors\n",
    "from datetime import datetime\n",
    "import matplotlib.patheffects as PathEffects\n",
    "import cdsapi\n",
    "import proplot as plot\n",
    "import os\n",
    "import cartopy.crs as ccrs\n",
    "import Compact_Maps\n",
    "from OpenThermodynamicData import opendownloadeddata\n",
    "from Hodograph import hodograph\n",
    "from Skewt import skewt"
   ]
  },
  {
   "cell_type": "code",
   "execution_count": 58,
   "metadata": {},
   "outputs": [],
   "source": [
    "DateList = np.load('C:/Users/USER/JupyterLab/Climaturk_Site/Codes/NewEngineeering_Codes/DateList_Thermodynamic_10042021.npy', allow_pickle=True)"
   ]
  },
  {
   "cell_type": "code",
   "execution_count": 59,
   "metadata": {},
   "outputs": [
    {
     "data": {
      "text/plain": [
       "array([['20100805', '2011March09', 1, 1],\n",
       "       ['20120628', '2015July17', 1, 1],\n",
       "       ['20191201', '2018January01', 1, 1],\n",
       "       ...,\n",
       "       ['20150312', '2015August25', 1, 1],\n",
       "       ['20130514', '2011September30', 1, 1],\n",
       "       ['20160107', '2011November03', 1, 1]], dtype=object)"
      ]
     },
     "execution_count": 59,
     "metadata": {},
     "output_type": "execute_result"
    }
   ],
   "source": [
    "DateList"
   ]
  },
  {
   "cell_type": "code",
   "execution_count": 45,
   "metadata": {},
   "outputs": [
    {
     "data": {
      "text/plain": [
       "1"
      ]
     },
     "execution_count": 45,
     "metadata": {},
     "output_type": "execute_result"
    }
   ],
   "source": [
    "DateList[:,2][-16]"
   ]
  },
  {
   "cell_type": "code",
   "execution_count": null,
   "metadata": {},
   "outputs": [],
   "source": []
  },
  {
   "cell_type": "code",
   "execution_count": null,
   "metadata": {},
   "outputs": [],
   "source": []
  },
  {
   "cell_type": "code",
   "execution_count": 13,
   "metadata": {},
   "outputs": [],
   "source": []
  },
  {
   "cell_type": "code",
   "execution_count": null,
   "metadata": {},
   "outputs": [],
   "source": []
  },
  {
   "cell_type": "code",
   "execution_count": null,
   "metadata": {},
   "outputs": [],
   "source": []
  },
  {
   "cell_type": "code",
   "execution_count": null,
   "metadata": {},
   "outputs": [],
   "source": []
  },
  {
   "cell_type": "code",
   "execution_count": null,
   "metadata": {},
   "outputs": [],
   "source": []
  },
  {
   "cell_type": "code",
   "execution_count": null,
   "metadata": {},
   "outputs": [],
   "source": []
  },
  {
   "cell_type": "code",
   "execution_count": null,
   "metadata": {},
   "outputs": [],
   "source": []
  },
  {
   "cell_type": "code",
   "execution_count": null,
   "metadata": {},
   "outputs": [],
   "source": []
  },
  {
   "cell_type": "code",
   "execution_count": null,
   "metadata": {},
   "outputs": [],
   "source": []
  }
 ],
 "metadata": {
  "kernelspec": {
   "display_name": "Python 3",
   "language": "python",
   "name": "python3"
  },
  "language_info": {
   "codemirror_mode": {
    "name": "ipython",
    "version": 3
   },
   "file_extension": ".py",
   "mimetype": "text/x-python",
   "name": "python",
   "nbconvert_exporter": "python",
   "pygments_lexer": "ipython3",
   "version": "3.9.2"
  }
 },
 "nbformat": 4,
 "nbformat_minor": 4
}
